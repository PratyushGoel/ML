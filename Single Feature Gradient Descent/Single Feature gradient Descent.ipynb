{
 "cells": [
  {
   "cell_type": "code",
   "execution_count": 23,
   "metadata": {},
   "outputs": [],
   "source": [
    "import numpy as np\n",
    "from sklearn.model_selection import train_test_split\n",
    "\n",
    "data = np.loadtxt(\"data.csv\", delimiter = \",\")\n",
    "X = data[:,0]\n",
    "Y = data[:,1]\n",
    "x_train, x_test, y_train, y_test = train_test_split(X, Y)"
   ]
  },
  {
   "cell_type": "code",
   "execution_count": 24,
   "metadata": {},
   "outputs": [],
   "source": [
    "def gradient_descent_step(X, Y, m, c, alfa):\n",
    "    slope_m = ((Y - m*X - c)*-X).mean()\n",
    "    slope_m *= 2\n",
    "    slope_c = ((Y - m*X - c)*-1).mean()\n",
    "    slope_c *= 2\n",
    "    m = m - alfa*slope_m\n",
    "    c = c - alfa*slope_c\n",
    "    return m, c"
   ]
  },
  {
   "cell_type": "code",
   "execution_count": 25,
   "metadata": {},
   "outputs": [],
   "source": [
    "def fit(X, Y, itrs, alfa):\n",
    "    m = 0\n",
    "    c = 0\n",
    "    for i in range(itrs):\n",
    "        m, c = gradient_descent_step(X, Y, m, c, alfa)\n",
    "        print(i, cost(X, Y, m, c))\n",
    "    return m, c"
   ]
  },
  {
   "cell_type": "code",
   "execution_count": 26,
   "metadata": {},
   "outputs": [],
   "source": [
    "def cost(X, Y, m, c):\n",
    "    cost = ((Y - m*X - c)**2).mean()\n",
    "    return cost"
   ]
  },
  {
   "cell_type": "code",
   "execution_count": 28,
   "metadata": {},
   "outputs": [
    {
     "name": "stdout",
     "output_type": "stream",
     "text": [
      "0 1497.2902632294804\n",
      "1 450.53921434691205\n",
      "2 186.59929915944358\n",
      "3 120.0464196578021\n",
      "4 103.26498588551357\n",
      "5 99.03349897996563\n",
      "6 97.96650054893878\n",
      "7 97.69743277171706\n",
      "8 97.62956444085776\n",
      "9 97.61242886130748\n",
      "10 97.60808562365253\n",
      "11 97.60696799509553\n",
      "12 97.60666370919472\n",
      "13 97.6065645092432\n",
      "14 97.6065170223736\n",
      "15 97.60648257538051\n",
      "16 97.60645141675555\n",
      "17 97.60642108764083\n",
      "18 97.60639096803156\n",
      "19 97.60636090159245\n",
      "20 97.60633084890348\n",
      "21 97.60630080002471\n",
      "22 97.60627075244979\n",
      "23 97.60624070554674\n",
      "24 97.60621065915619\n",
      "25 97.60618061323797\n",
      "26 97.60615056778191\n",
      "27 97.60612052278555\n",
      "28 97.60609047824808\n",
      "29 97.60606043416941\n",
      "30 97.60603039054952\n",
      "31 97.60600034738835\n",
      "32 97.60597030468593\n",
      "33 97.60594026244219\n",
      "34 97.6059102206572\n",
      "35 97.60588017933085\n",
      "36 97.60585013846325\n",
      "37 97.60582009805432\n",
      "38 97.60579005810409\n",
      "39 97.60576001861249\n",
      "40 97.60572997957959\n",
      "41 97.60569994100535\n",
      "42 97.60566990288976\n",
      "43 97.6056398652328\n",
      "44 97.60560982803452\n",
      "45 97.60557979129483\n",
      "46 97.60554975501381\n",
      "47 97.60551971919136\n",
      "48 97.60548968382757\n",
      "49 97.60545964892232\n"
     ]
    }
   ],
   "source": [
    "m, c = fit(x_train, y_train, 50, .0001)"
   ]
  },
  {
   "cell_type": "code",
   "execution_count": 29,
   "metadata": {},
   "outputs": [],
   "source": [
    "def predict(X, m, c):\n",
    "    ans = m*X + c\n",
    "    return ans"
   ]
  },
  {
   "cell_type": "code",
   "execution_count": 30,
   "metadata": {},
   "outputs": [
    {
     "name": "stdout",
     "output_type": "stream",
     "text": [
      "[71.91802655 80.01767441 66.55194542 50.2623776  59.99976701 48.55687588\n",
      " 71.85111616 95.00773984 64.7046645  69.72690968 58.70487241 88.67050343\n",
      " 88.19114185 91.89460967 94.08496884 84.98347239 82.35731215 49.21099451\n",
      " 65.52927249 90.05374039 90.01176955 68.13901737 66.47271342 74.7393032\n",
      " 60.64568136]\n"
     ]
    }
   ],
   "source": [
    "predictions = predict(x_test, m, c)\n",
    "print(predictions)"
   ]
  },
  {
   "cell_type": "code",
   "execution_count": 31,
   "metadata": {},
   "outputs": [],
   "source": [
    "def score(Yt, Yp):\n",
    "    u = ((Yt - Yp)**2).sum()\n",
    "    v = ((Yt - Yt.mean())**2).sum()\n",
    "    return 1-u/v"
   ]
  },
  {
   "cell_type": "code",
   "execution_count": 32,
   "metadata": {},
   "outputs": [
    {
     "name": "stdout",
     "output_type": "stream",
     "text": [
      "0.4425026659938136\n"
     ]
    }
   ],
   "source": [
    "score = score(y_test, predictions)\n",
    "print(score)"
   ]
  }
 ],
 "metadata": {
  "kernelspec": {
   "display_name": "Python 3",
   "language": "python",
   "name": "python3"
  },
  "language_info": {
   "codemirror_mode": {
    "name": "ipython",
    "version": 3
   },
   "file_extension": ".py",
   "mimetype": "text/x-python",
   "name": "python",
   "nbconvert_exporter": "python",
   "pygments_lexer": "ipython3",
   "version": "3.7.3"
  }
 },
 "nbformat": 4,
 "nbformat_minor": 2
}
