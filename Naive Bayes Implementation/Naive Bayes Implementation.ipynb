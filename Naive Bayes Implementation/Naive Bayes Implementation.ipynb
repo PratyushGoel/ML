{
 "cells": [
  {
   "cell_type": "code",
   "execution_count": 1,
   "metadata": {},
   "outputs": [],
   "source": [
    "import numpy as np"
   ]
  },
  {
   "cell_type": "code",
   "execution_count": 2,
   "metadata": {},
   "outputs": [],
   "source": [
    "def fit(X, Y):\n",
    "    result = {}\n",
    "    class_values = set(Y)\n",
    "    for curr_class in class_values:\n",
    "        result[curr_class] = {}\n",
    "        result[\"total_count\"] = len(Y)\n",
    "        curr_class_rows = (Y == curr_class)\n",
    "        X_curr = X[curr_class_rows]\n",
    "        Y_curr = Y[curr_class_rows]\n",
    "        num_features = X.shape[1]\n",
    "        result[curr_class][\"total_count\"] = len(Y_curr)\n",
    "        for j in range(1, num_features+1):\n",
    "            result[curr_class][j] = {}\n",
    "            all_possible_values = set(X[:, j-1])\n",
    "            for curr_val in all_possible_values:\n",
    "                result[curr_class][j][curr_val] = (X_curr[:, j-1] == curr_val).sum()\n",
    "    return result"
   ]
  },
  {
   "cell_type": "code",
   "execution_count": 3,
   "metadata": {},
   "outputs": [],
   "source": [
    "# I will use log to compare probabiloities as the probabilities can get very low \n",
    "def probability(dictionary, x, curr_class):\n",
    "    out = np.log(dictionary[curr_class][\"total_count\"]) - np.log(dictionary[\"total_count\"])\n",
    "    num_features = len(dictionary[curr_class].keys())-1\n",
    "    for j in range(1, num_features+1):\n",
    "        xj = x[j-1]\n",
    "        count_current_class_with_values_xj = dictionary[curr_class][j][xj] + 1\n",
    "        count_current_class = dictionary[curr_class][\"total_count\"] + len(dictionary[curr_class][j].keys())\n",
    "        current_xj_probability = np.log(count_current_class_with_values_xj) - np.log(count_current_class)\n",
    "        out+=current_xj_probability\n",
    "    return out"
   ]
  },
  {
   "cell_type": "code",
   "execution_count": 4,
   "metadata": {},
   "outputs": [],
   "source": [
    "def predictSinglePoint(dictionary, x):\n",
    "    classes = dictionary.keys()\n",
    "    best_p = -1000\n",
    "    best_class = -1\n",
    "    first_run = True\n",
    "    for curr_class in classes:\n",
    "        if curr_class == \"total_count\":\n",
    "            continue\n",
    "        p_curr_class = probability(dictionary, x, curr_class)\n",
    "        if(first_run or (p_curr_class>best_p)):\n",
    "            best_class = curr_class\n",
    "            best_p = p_curr_class\n",
    "        first_run = False\n",
    "    return best_class"
   ]
  },
  {
   "cell_type": "code",
   "execution_count": 5,
   "metadata": {},
   "outputs": [],
   "source": [
    "def predict(dictionary, x_test):\n",
    "    y_pred = []\n",
    "    for x in x_test:\n",
    "        x_class = predictSinglePoint(dictionary, x)\n",
    "        y_pred.append(x_class)\n",
    "    return y_pred"
   ]
  },
  {
   "cell_type": "code",
   "execution_count": 6,
   "metadata": {},
   "outputs": [],
   "source": [
    "def mark_labelled(column):\n",
    "    second = column.mean()\n",
    "    first = .5*second\n",
    "    third = 1.5*second\n",
    "    \n",
    "    for i in range(len(column)):\n",
    "        if (column[i]<first):\n",
    "            column[i] = 0\n",
    "        elif(column[i]<second):\n",
    "            column[i] = 1\n",
    "        elif(column[i]<third):\n",
    "            column[i] = 2\n",
    "        else:\n",
    "            column[i] = 3\n",
    "    return column"
   ]
  },
  {
   "cell_type": "code",
   "execution_count": 7,
   "metadata": {},
   "outputs": [],
   "source": [
    "from sklearn import datasets\n",
    "iris = datasets.load_iris()\n",
    "X = iris.data\n",
    "Y = iris.target"
   ]
  },
  {
   "cell_type": "code",
   "execution_count": 8,
   "metadata": {},
   "outputs": [],
   "source": [
    "for i in range(0,X.shape[-1]):\n",
    "    X[:,i] = mark_labelled(X[:,i])"
   ]
  },
  {
   "cell_type": "code",
   "execution_count": 9,
   "metadata": {},
   "outputs": [],
   "source": [
    "from sklearn.model_selection import train_test_split\n",
    "x_train, x_test, y_train, y_test = train_test_split(X, Y, random_state = 0)"
   ]
  },
  {
   "cell_type": "code",
   "execution_count": 10,
   "metadata": {},
   "outputs": [],
   "source": [
    "dictionary = fit(x_train, y_train)"
   ]
  },
  {
   "cell_type": "code",
   "execution_count": 11,
   "metadata": {},
   "outputs": [],
   "source": [
    "y_pred = predict(dictionary, x_test)"
   ]
  },
  {
   "cell_type": "code",
   "execution_count": 12,
   "metadata": {},
   "outputs": [
    {
     "name": "stdout",
     "output_type": "stream",
     "text": [
      "              precision    recall  f1-score   support\n",
      "\n",
      "           0       1.00      1.00      1.00        13\n",
      "           1       0.94      1.00      0.97        16\n",
      "           2       1.00      0.89      0.94         9\n",
      "\n",
      "    accuracy                           0.97        38\n",
      "   macro avg       0.98      0.96      0.97        38\n",
      "weighted avg       0.98      0.97      0.97        38\n",
      "\n",
      "[[13  0  0]\n",
      " [ 0 16  0]\n",
      " [ 0  1  8]]\n"
     ]
    }
   ],
   "source": [
    "from sklearn.metrics import classification_report, confusion_matrix\n",
    "print(classification_report(y_test, y_pred))\n",
    "print(confusion_matrix(y_test, y_pred))"
   ]
  }
 ],
 "metadata": {
  "kernelspec": {
   "display_name": "Python 3",
   "language": "python",
   "name": "python3"
  },
  "language_info": {
   "codemirror_mode": {
    "name": "ipython",
    "version": 3
   },
   "file_extension": ".py",
   "mimetype": "text/x-python",
   "name": "python",
   "nbconvert_exporter": "python",
   "pygments_lexer": "ipython3",
   "version": "3.7.3"
  }
 },
 "nbformat": 4,
 "nbformat_minor": 4
}
