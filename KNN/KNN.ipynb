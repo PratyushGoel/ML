{
 "cells": [
  {
   "cell_type": "code",
   "execution_count": 12,
   "metadata": {},
   "outputs": [],
   "source": [
    "from sklearn import datasets\n",
    "import numpy as np \n",
    "from sklearn.model_selection import train_test_split\n",
    "from sklearn.metrics import accuracy_score\n",
    "from collections import Counter\n",
    "dataset = datasets.load_breast_cancer()\n",
    "x_train, x_test, y_train, y_test = train_test_split(dataset.data, dataset.target, random_state = 0, test_size = 0.2)"
   ]
  },
  {
   "cell_type": "code",
   "execution_count": 15,
   "metadata": {},
   "outputs": [],
   "source": [
    "def train(x,y):\n",
    "    return\n",
    "\n",
    "def predict_one(x_train, y_train, x, k):\n",
    "    distances = []\n",
    "    for i in range(len(x_train)):\n",
    "        distance = ((x_train[i, :] - x)**2).sum()\n",
    "        distances.append([distance, i])\n",
    "    targets = []\n",
    "    distances = sorted(distances)\n",
    "    for i in range(k):\n",
    "        targets.append(y_train[distances[i][1]])\n",
    "    return Counter(targets).most_common(1)[0][0]\n",
    "\n",
    "def predict(x_train, y_train, x_test, k):\n",
    "    predictions = []\n",
    "    for x in x_test:\n",
    "        predictions.append(predict_one(x_train, y_train, x, k))\n",
    "    return predictions"
   ]
  },
  {
   "cell_type": "code",
   "execution_count": 16,
   "metadata": {},
   "outputs": [
    {
     "data": {
      "text/plain": [
       "0.9473684210526315"
      ]
     },
     "execution_count": 16,
     "metadata": {},
     "output_type": "execute_result"
    }
   ],
   "source": [
    "y_pred = predict(x_train, y_train, x_test, 7)\n",
    "accuracy_score(y_test, y_pred)"
   ]
  },
  {
   "cell_type": "code",
   "execution_count": null,
   "metadata": {},
   "outputs": [],
   "source": []
  }
 ],
 "metadata": {
  "kernelspec": {
   "display_name": "Python 3",
   "language": "python",
   "name": "python3"
  },
  "language_info": {
   "codemirror_mode": {
    "name": "ipython",
    "version": 3
   },
   "file_extension": ".py",
   "mimetype": "text/x-python",
   "name": "python",
   "nbconvert_exporter": "python",
   "pygments_lexer": "ipython3",
   "version": "3.7.3"
  }
 },
 "nbformat": 4,
 "nbformat_minor": 4
}
