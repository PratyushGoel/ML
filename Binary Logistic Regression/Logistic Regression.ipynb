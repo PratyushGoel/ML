{
 "cells": [
  {
   "cell_type": "code",
   "execution_count": 1,
   "metadata": {},
   "outputs": [],
   "source": [
    "import numpy as np\n",
    "from sklearn import datasets\n",
    "from sklearn.model_selection import train_test_split\n",
    "import math\n",
    "from sklearn import preprocessing\n",
    "\n",
    "X, Y = datasets.load_breast_cancer(return_X_y = True)\n",
    "x_train, x_test, y_train, y_test = train_test_split(X, Y)\n",
    "\n",
    "scaler = preprocessing.StandardScaler()\n",
    "scaler.fit(x_train)\n",
    "x_train = scaler.transform(x_train)\n"
   ]
  },
  {
   "cell_type": "code",
   "execution_count": 2,
   "metadata": {},
   "outputs": [
    {
     "data": {
      "text/plain": [
       "(426, 30)"
      ]
     },
     "execution_count": 2,
     "metadata": {},
     "output_type": "execute_result"
    }
   ],
   "source": [
    "x_train.shape"
   ]
  },
  {
   "cell_type": "code",
   "execution_count": 3,
   "metadata": {},
   "outputs": [],
   "source": [
    "def step_gradient(X, Y, M, alfa):\n",
    "    m = len(X)      #no of data points\n",
    "    n = len(X[0])   #no of features\n",
    "    slope_m = np.zeros(n)\n",
    "    \n",
    "    for i in range(m):\n",
    "        x = X[i]\n",
    "        y = Y[i]\n",
    "        for j in range(n):\n",
    "            hx = 1/(1+np.exp(-1*((M*x).sum())))\n",
    "            slope_m += -x[j]*(y - hx)\n",
    "    M = M - (alfa/m)*slope_m\n",
    "    return(M)\n",
    "\n",
    "# def step_gradient(X, Y, m, learning_rate):\n",
    "#     m_slope=np.zeros(len(X[0]))\n",
    "#     for i in range(len(X)):\n",
    "#         x=X[i]\n",
    "#         y=Y[i]\n",
    "#         for j in range(len(x)):\n",
    "#             m_slope+=(-1/len(X))*(y-(1/(1+math.exp(-sum(m*x)))))*x[j]\n",
    "#     new_m=m-learning_rate*m_slope\n",
    "#     return new_m"
   ]
  },
  {
   "cell_type": "code",
   "execution_count": 4,
   "metadata": {},
   "outputs": [],
   "source": [
    "def fit(X, Y):\n",
    "    itrs = 50\n",
    "    alfa = .1\n",
    "    m = np.zeros(len(X[0]))\n",
    "    \n",
    "    for i in range(itrs):\n",
    "        m = step_gradient(X, Y, m, alfa)\n",
    "        c = cost(X, Y, m)\n",
    "        print(i, c)\n",
    "    return(m)"
   ]
  },
  {
   "cell_type": "code",
   "execution_count": 5,
   "metadata": {},
   "outputs": [],
   "source": [
    "def cost(X, Y, m):\n",
    "    cost = 0.0\n",
    "#     for i in range(len(x)):\n",
    "#         cost+=math.log(1+(math.exp(sum(m*x[i]))))-y[i]*sum(m*x[i])\n",
    "    for i in range(len(X)):\n",
    "        cost += np.log(1+np.exp((m*X[i]).sum())) - Y[i]*(m*X[i]).sum()\n",
    "    return(cost)"
   ]
  },
  {
   "cell_type": "code",
   "execution_count": 6,
   "metadata": {},
   "outputs": [
    {
     "name": "stdout",
     "output_type": "stream",
     "text": [
      "0 284.6073472031411\n",
      "1 250.80824094739592\n",
      "2 218.8519835123518\n",
      "3 189.81690406270874\n",
      "4 165.44949548632462\n",
      "5 148.1512921278397\n",
      "6 139.5696448753651\n",
      "7 137.49470452188814\n",
      "8 137.34907873467367\n",
      "9 137.34701328576116\n",
      "10 137.34700196639005\n",
      "11 137.34700191342952\n",
      "12 137.34700191318484\n",
      "13 137.3470019131836\n",
      "14 137.34700191318362\n",
      "15 137.3470019131836\n",
      "16 137.34700191318365\n",
      "17 137.34700191318373\n",
      "18 137.34700191318356\n",
      "19 137.34700191318362\n",
      "20 137.34700191318365\n",
      "21 137.34700191318365\n",
      "22 137.34700191318365\n",
      "23 137.34700191318365\n",
      "24 137.34700191318365\n",
      "25 137.34700191318365\n",
      "26 137.34700191318365\n",
      "27 137.34700191318365\n",
      "28 137.34700191318365\n",
      "29 137.34700191318365\n",
      "30 137.34700191318365\n",
      "31 137.34700191318365\n",
      "32 137.34700191318365\n",
      "33 137.34700191318365\n",
      "34 137.34700191318365\n",
      "35 137.34700191318365\n",
      "36 137.34700191318365\n",
      "37 137.34700191318365\n",
      "38 137.34700191318365\n",
      "39 137.34700191318365\n",
      "40 137.34700191318365\n",
      "41 137.34700191318365\n",
      "42 137.34700191318365\n",
      "43 137.34700191318365\n",
      "44 137.34700191318365\n",
      "45 137.34700191318365\n",
      "46 137.34700191318365\n",
      "47 137.34700191318365\n",
      "48 137.34700191318365\n",
      "49 137.34700191318365\n"
     ]
    },
    {
     "data": {
      "text/plain": [
       "array([-0.17511744, -0.17511744, -0.17511744, -0.17511744, -0.17511744,\n",
       "       -0.17511744, -0.17511744, -0.17511744, -0.17511744, -0.17511744,\n",
       "       -0.17511744, -0.17511744, -0.17511744, -0.17511744, -0.17511744,\n",
       "       -0.17511744, -0.17511744, -0.17511744, -0.17511744, -0.17511744,\n",
       "       -0.17511744, -0.17511744, -0.17511744, -0.17511744, -0.17511744,\n",
       "       -0.17511744, -0.17511744, -0.17511744, -0.17511744, -0.17511744])"
      ]
     },
     "execution_count": 6,
     "metadata": {},
     "output_type": "execute_result"
    }
   ],
   "source": [
    "M = fit(x_train, y_train)\n",
    "M"
   ]
  },
  {
   "cell_type": "code",
   "execution_count": 7,
   "metadata": {},
   "outputs": [],
   "source": [
    "x_test = scaler.transform(x_test)\n",
    "pred=[]\n",
    "for i in x_test:\n",
    "    if 1/(1+np.exp(-(M*i).sum()))>0.5:\n",
    "        pred.append(1)\n",
    "    else:\n",
    "        pred.append(0)"
   ]
  },
  {
   "cell_type": "code",
   "execution_count": 8,
   "metadata": {},
   "outputs": [
    {
     "name": "stdout",
     "output_type": "stream",
     "text": [
      "score= 0.9230769230769231\n"
     ]
    }
   ],
   "source": [
    "total=0\n",
    "correct=0\n",
    "for i, j in zip(pred, y_test):\n",
    "    total+=1\n",
    "    if i==j:\n",
    "        correct+=1\n",
    "print('score=', correct/total)"
   ]
  },
  {
   "cell_type": "code",
   "execution_count": null,
   "metadata": {},
   "outputs": [],
   "source": []
  }
 ],
 "metadata": {
  "kernelspec": {
   "display_name": "Python 3",
   "language": "python",
   "name": "python3"
  },
  "language_info": {
   "codemirror_mode": {
    "name": "ipython",
    "version": 3
   },
   "file_extension": ".py",
   "mimetype": "text/x-python",
   "name": "python",
   "nbconvert_exporter": "python",
   "pygments_lexer": "ipython3",
   "version": "3.7.3"
  }
 },
 "nbformat": 4,
 "nbformat_minor": 2
}
