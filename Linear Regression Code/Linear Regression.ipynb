{
 "cells": [
  {
   "cell_type": "code",
   "execution_count": 1,
   "metadata": {},
   "outputs": [],
   "source": [
    "import numpy as np\n",
    "data = np.loadtxt(\"data.csv\", delimiter = \",\")"
   ]
  },
  {
   "cell_type": "code",
   "execution_count": 3,
   "metadata": {},
   "outputs": [],
   "source": [
    "x = data[:, 0:1]\n",
    "y = data[:, 1:2]\n",
    "from sklearn import model_selection\n",
    "x_train, x_test, y_train, y_test = model_selection.train_test_split(x,y)"
   ]
  },
  {
   "cell_type": "code",
   "execution_count": 4,
   "metadata": {},
   "outputs": [],
   "source": [
    "def fit(x, y):\n",
    "    m = ((x*y).mean() - x.mean()*y.mean())/((x*x).mean() - x.mean()*x.mean());\n",
    "    c = y.mean() - m*x.mean()\n",
    "    return m, c"
   ]
  },
  {
   "cell_type": "code",
   "execution_count": 6,
   "metadata": {},
   "outputs": [],
   "source": [
    "def predict(x, m, c):\n",
    "    predictions = x*m;\n",
    "    for i in range(len(predictions)):\n",
    "        predictions[i]+=c;\n",
    "    return predictions"
   ]
  },
  {
   "cell_type": "code",
   "execution_count": 8,
   "metadata": {},
   "outputs": [],
   "source": [
    "def cost(x, y, m, c):\n",
    "    predictions = x*m;\n",
    "    for i in range(len(predictions)):\n",
    "        predictions[i]+=c;\n",
    "    ans = 0;\n",
    "    for i in range(len(predictions)):\n",
    "        ans += (predictions[i]-y[i])**2\n",
    "    return ans/len(predictions)"
   ]
  },
  {
   "cell_type": "code",
   "execution_count": 10,
   "metadata": {},
   "outputs": [],
   "source": [
    "def score(x, y, m, c):\n",
    "    predictions = x*m;\n",
    "    for i in range(len(predictions)):\n",
    "        predictions[i]+=c;\n",
    "    u = 0\n",
    "    v = 0\n",
    "    for i in range(len(predictions)):\n",
    "        u+=(y[i]-predictions[i])**2\n",
    "        v+=(y[i] - y.mean())**2\n",
    "    \n",
    "    score = 1 - u/v;\n",
    "    return score"
   ]
  },
  {
   "cell_type": "code",
   "execution_count": 9,
   "metadata": {},
   "outputs": [
    {
     "name": "stdout",
     "output_type": "stream",
     "text": [
      "1.3495949637640587\n",
      "6.236733541123755\n",
      "[[79.58942625]\n",
      " [68.6298131 ]\n",
      " [51.93970752]\n",
      " [56.07737894]\n",
      " [78.54138836]\n",
      " [84.22742961]\n",
      " [61.70871047]\n",
      " [89.27779485]\n",
      " [55.41058848]\n",
      " [73.81519871]\n",
      " [57.52874875]\n",
      " [77.15796838]\n",
      " [70.30961769]\n",
      " [73.76989322]\n",
      " [98.44019883]\n",
      " [76.20673668]\n",
      " [65.84031232]\n",
      " [69.23883422]\n",
      " [82.79548784]\n",
      " [72.3073542 ]\n",
      " [67.56304496]\n",
      " [81.55187023]\n",
      " [59.27523083]\n",
      " [83.58202555]\n",
      " [62.54274824]]\n",
      "[119.02485533]\n"
     ]
    }
   ],
   "source": [
    "m, c = fit(x_train, y_train)\n",
    "predictions = predict(x_test, m, c)\n",
    "print(m)\n",
    "print(c)\n",
    "print(predictions)\n",
    "print(cost(x_train, y_train, m, c))"
   ]
  },
  {
   "cell_type": "code",
   "execution_count": 11,
   "metadata": {},
   "outputs": [
    {
     "data": {
      "text/plain": [
       "array([0.53979766])"
      ]
     },
     "execution_count": 11,
     "metadata": {},
     "output_type": "execute_result"
    }
   ],
   "source": [
    "score(x_test, y_test, m, c)"
   ]
  },
  {
   "cell_type": "code",
   "execution_count": 12,
   "metadata": {},
   "outputs": [
    {
     "data": {
      "text/plain": [
       "array([0.60903068])"
      ]
     },
     "execution_count": 12,
     "metadata": {},
     "output_type": "execute_result"
    }
   ],
   "source": [
    "score(x_train, y_train, m, c)"
   ]
  },
  {
   "cell_type": "code",
   "execution_count": null,
   "metadata": {},
   "outputs": [],
   "source": []
  }
 ],
 "metadata": {
  "kernelspec": {
   "display_name": "Python 3",
   "language": "python",
   "name": "python3"
  },
  "language_info": {
   "codemirror_mode": {
    "name": "ipython",
    "version": 3
   },
   "file_extension": ".py",
   "mimetype": "text/x-python",
   "name": "python",
   "nbconvert_exporter": "python",
   "pygments_lexer": "ipython3",
   "version": "3.7.3"
  }
 },
 "nbformat": 4,
 "nbformat_minor": 2
}
